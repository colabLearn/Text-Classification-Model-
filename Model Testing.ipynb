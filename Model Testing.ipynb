{
 "cells": [
  {
   "cell_type": "code",
   "execution_count": 124,
   "id": "a1383bad",
   "metadata": {},
   "outputs": [],
   "source": [
    "import pandas as pd\n",
    "data = pd.read_csv ('D:/NLP_Data/Data4Test.csv', encoding='ISO-8859-1')"
   ]
  },
  {
   "cell_type": "code",
   "execution_count": 125,
   "id": "cfe2da4b",
   "metadata": {},
   "outputs": [
    {
     "name": "stdout",
     "output_type": "stream",
     "text": [
      "0    93\n",
      "1    57\n",
      "Name: Label, dtype: int64\n",
      "0.6129032258064516\n"
     ]
    },
    {
     "name": "stderr",
     "output_type": "stream",
     "text": [
      "C:\\Users\\tunji\\anaconda3\\envs\\nlp\\lib\\site-packages\\seaborn\\_decorators.py:36: FutureWarning: Pass the following variables as keyword args: x, y. From version 0.12, the only valid positional argument will be `data`, and passing other arguments without an explicit keyword will result in an error or misinterpretation.\n",
      "  warnings.warn(\n"
     ]
    },
    {
     "data": {
      "image/png": "[encoded data removed]",
      "text/plain": [
       "<Figure size 432x288 with 1 Axes>"
      ]
     },
     "metadata": {
      "needs_background": "light"
     },
     "output_type": "display_data"
    }
   ],
   "source": [
    "import seaborn as sns\n",
    "\n",
    "x=data['Label'].value_counts()\n",
    "print(x)\n",
    "sns.barplot(x.index,x)\n",
    "\n",
    "#plt.savefig('D:/NLP_SentimentA_RTE_Data/Images/responseLabelBallance.jpg')\n",
    "print(57/93)"
   ]
  },
  {
   "cell_type": "code",
   "execution_count": 126,
   "id": "3c522df8",
   "metadata": {},
   "outputs": [],
   "source": [
    "#Function to balance the class\n",
    "def balanceClassCategory (data,catColumn, cat_high, cat_low):\n",
    "    #shuffled = df.sample(frac=1).reset_index()\n",
    "    df = data.sample(frac=1).reset_index()\n",
    "    df_cat_high= df[df['Label']== cat_high]\n",
    "    df_cat_low = df[df['Label']== cat_low]\n",
    "    df_cat_high_downsampled = df_cat_high.sample(df_cat_low.shape[0])\n",
    "    df_balanced = pd.concat([df_cat_high_downsampled, df_cat_low])\n",
    "    \n",
    "    return df_balanced"
   ]
  },
  {
   "cell_type": "code",
   "execution_count": 127,
   "id": "b0afa60e",
   "metadata": {},
   "outputs": [],
   "source": [
    "data = balanceClassCategory (data, \"Label\", 0, 1)"
   ]
  },
  {
   "cell_type": "code",
   "execution_count": 128,
   "id": "33da2827",
   "metadata": {},
   "outputs": [
    {
     "name": "stdout",
     "output_type": "stream",
     "text": [
      "0    57\n",
      "1    57\n",
      "Name: Label, dtype: int64\n"
     ]
    },
    {
     "name": "stderr",
     "output_type": "stream",
     "text": [
      "C:\\Users\\tunji\\anaconda3\\envs\\nlp\\lib\\site-packages\\seaborn\\_decorators.py:36: FutureWarning: Pass the following variables as keyword args: x, y. From version 0.12, the only valid positional argument will be `data`, and passing other arguments without an explicit keyword will result in an error or misinterpretation.\n",
      "  warnings.warn(\n"
     ]
    },
    {
     "data": {
      "text/plain": [
       "<AxesSubplot:ylabel='Label'>"
      ]
     },
     "execution_count": 128,
     "metadata": {},
     "output_type": "execute_result"
    },
    {
     "data": {
      "image/png": "[encoded data removed]",
      "text/plain": [
       "<Figure size 432x288 with 1 Axes>"
      ]
     },
     "metadata": {
      "needs_background": "light"
     },
     "output_type": "display_data"
    }
   ],
   "source": [
    "x=data['Label'].value_counts()\n",
    "print(x)\n",
    "sns.barplot(x.index,x)\n"
   ]
  },
  {
   "cell_type": "code",
   "execution_count": 129,
   "id": "cef17079",
   "metadata": {},
   "outputs": [
    {
     "data": {
      "image/png": "[encoded data removed]",
      "text/plain": [
       "<Figure size 720x288 with 2 Axes>"
      ]
     },
     "metadata": {
      "needs_background": "light"
     },
     "output_type": "display_data"
    },
    {
     "data": {
      "text/plain": [
       "<Figure size 432x288 with 0 Axes>"
      ]
     },
     "metadata": {},
     "output_type": "display_data"
    }
   ],
   "source": [
    "# PLOTTING WORD-COUNT\n",
    "import matplotlib.pyplot as plt\n",
    "\n",
    "data['word_count'] = data['Response'].apply(lambda x: len(str(x).split()))\n",
    "fig,(ax1,ax2)=plt.subplots(1,2,figsize=(10,4))\n",
    "train_words=data[data['Label']==1]['word_count']\n",
    "ax1.hist(train_words,color='green')\n",
    "ax1.set_title('Desired responses')\n",
    "train_words=data[data['Label']==0]['word_count']\n",
    "ax2.hist(train_words,color='red')\n",
    "ax2.set_title('Less desired reponses')\n",
    "fig.suptitle('Word  count per response')\n",
    "plt.show()\n",
    "\n",
    "plt.savefig('D:/NLP_SentimentA_RTE_Data/Images/wordCountPerRespsonseIn_0_1.jpg')"
   ]
  },
  {
   "cell_type": "code",
   "execution_count": 130,
   "id": "28b3098c",
   "metadata": {},
   "outputs": [],
   "source": [
    "import spacy\n",
    "nlp = spacy.load(\"en_core_web_sm\")\n",
    "\n",
    "#the Brown Corpus text contains specific punctuation sequences \n",
    "#( `,and``) that should be removed. You can do that by adding the character sequences \n",
    "#to the list of stop words (easier than adding characters to the punctuation module)\n",
    "\n",
    "nlp.Defaults.stop_words.add(\"`,\")\n",
    "nlp.Defaults.stop_words.add(\"``\")"
   ]
  },
  {
   "cell_type": "code",
   "execution_count": 131,
   "id": "727fd32b",
   "metadata": {},
   "outputs": [],
   "source": [
    "from nltk.corpus import wordnet\n",
    "from nltk.stem import WordNetLemmatizer\n",
    "wl = WordNetLemmatizer()\n",
    " \n",
    "# This is a helper function to map NTLK position tags\n",
    "def get_wordnet_pos(tag):\n",
    "    if tag.startswith('J'):\n",
    "        return wordnet.ADJ\n",
    "    elif tag.startswith('V'):\n",
    "        return wordnet.VERB\n",
    "    elif tag.startswith('N'):\n",
    "        return wordnet.NOUN\n",
    "    elif tag.startswith('R'):\n",
    "        return wordnet.ADV\n",
    "    else:\n",
    "        return wordnet.NOUN"
   ]
  },
  {
   "cell_type": "code",
   "execution_count": 132,
   "id": "317e4e9e",
   "metadata": {},
   "outputs": [],
   "source": [
    "#Lematizaton that works with string \n",
    "#Return string of all the tokens, separated by spaces.\n",
    "import nltk\n",
    "#nltk.download()\n",
    "\n",
    "def lemmatizeWorkingWithStrings(text):\n",
    "    doc = nlp(text)\n",
    "    tokens = [token.lemma_ for token in doc if not (token.is_stop or token.is_punct)]\n",
    "    word_pos_tags = nltk.pos_tag(tokens) # Get position tags\n",
    "    a=[wl.lemmatize(tag[0], get_wordnet_pos(tag[1])) for idx, tag in enumerate(word_pos_tags)] # Map the position tag and lemmatize the word/token\n",
    "    return ' '.join(a)"
   ]
  },
  {
   "cell_type": "code",
   "execution_count": 133,
   "id": "3bfe5f94",
   "metadata": {},
   "outputs": [],
   "source": [
    "data['clean_text'] = data['Response'].apply(lambda x: lemmatizeWorkingWithStrings(x))\n",
    "#data.head(10)"
   ]
  },
  {
   "cell_type": "code",
   "execution_count": 134,
   "id": "bc22d78b",
   "metadata": {},
   "outputs": [],
   "source": [
    "from sklearn.model_selection import train_test_split\n",
    "#SPLITTING THE TRAINING DATASET INTO TRAIN AND TEST\n",
    "X_train, X_test, y_train, y_test = train_test_split(data[\"clean_text\"],data[\"Label\"],test_size=0.2,shuffle=True,stratify=data['Label'])"
   ]
  },
  {
   "cell_type": "code",
   "execution_count": 135,
   "id": "89ea1e98",
   "metadata": {},
   "outputs": [],
   "source": [
    "from sklearn.feature_extraction.text import TfidfVectorizer\n",
    "#Tf-Idf transformer\n",
    "\n",
    "tfidf_vectorizer = TfidfVectorizer(use_idf=True)\n",
    "X_train_vectors_tfidf = tfidf_vectorizer.fit_transform(X_train) \n",
    "X_test_vectors_tfidf = tfidf_vectorizer.transform(X_test)"
   ]
  },
  {
   "cell_type": "code",
   "execution_count": null,
   "id": "5302446b",
   "metadata": {},
   "outputs": [],
   "source": []
  },
  {
   "cell_type": "code",
   "execution_count": 136,
   "id": "3a1abaec",
   "metadata": {},
   "outputs": [
    {
     "name": "stdout",
     "output_type": "stream",
     "text": [
      "              precision    recall  f1-score   support\n",
      "\n",
      "           0       0.86      1.00      0.92        12\n",
      "           1       1.00      0.82      0.90        11\n",
      "\n",
      "    accuracy                           0.91        23\n",
      "   macro avg       0.93      0.91      0.91        23\n",
      "weighted avg       0.93      0.91      0.91        23\n",
      "\n",
      "Confusion Matrix: [[12  0]\n",
      " [ 2  9]]\n",
      "AUC: 0.9242424242424242\n",
      "Accuracy 0.9130434782608695\n",
      "F1-Score 0.9\n",
      "Recall 0.8181818181818182\n"
     ]
    }
   ],
   "source": [
    "from sklearn.metrics import classification_report, f1_score, accuracy_score, confusion_matrix,recall_score\n",
    "from sklearn.metrics import roc_curve, auc, roc_auc_score\n",
    "from sklearn.linear_model import LogisticRegression\n",
    "\n",
    "lr_tfidf=LogisticRegression(solver = 'liblinear', C=10, penalty = 'l2')\n",
    "\n",
    "lr_tfidf.fit(X_train_vectors_tfidf, y_train)\n",
    "\n",
    "y_predict = lr_tfidf.predict(X_test_vectors_tfidf)\n",
    "\n",
    "y_prob = lr_tfidf.predict_proba(X_test_vectors_tfidf)[:,1]\n",
    "\n",
    "print(classification_report(y_test,y_predict))\n",
    "\n",
    "print('Confusion Matrix:',confusion_matrix(y_test, y_predict))\n",
    " \n",
    "fpr, tpr, thresholds = roc_curve(y_test, y_prob)\n",
    "\n",
    "roc_auc = auc(fpr, tpr)\n",
    "\n",
    "print('AUC:', roc_auc)\n",
    "print (\"Accuracy\", accuracy_score(y_test, y_predict))\n",
    "print (\"F1-Score\", f1_score(y_test, y_predict))\n",
    "print (\"Recall\", recall_score(y_test, y_predict))"
   ]
  },
  {
   "cell_type": "code",
   "execution_count": 137,
   "id": "34461f63",
   "metadata": {
    "scrolled": true
   },
   "outputs": [
    {
     "name": "stdout",
     "output_type": "stream",
     "text": [
      "              precision    recall  f1-score   support\n",
      "\n",
      "           0       0.92      1.00      0.96        12\n",
      "           1       1.00      0.91      0.95        11\n",
      "\n",
      "    accuracy                           0.96        23\n",
      "   macro avg       0.96      0.95      0.96        23\n",
      "weighted avg       0.96      0.96      0.96        23\n",
      "\n",
      "Confusion Matrix: [[12  0]\n",
      " [ 1 10]]\n",
      "AUC: 0.9393939393939393\n",
      "Accuracy 0.9565217391304348\n",
      "F1-Score 0.9523809523809523\n",
      "Recall 0.9090909090909091\n"
     ]
    }
   ],
   "source": [
    "#FITTING THE CLASSIFICATION MODEL using Naive Bayes(tf-idf)\n",
    "from sklearn.naive_bayes import MultinomialNB\n",
    "nb_tfidf = MultinomialNB()\n",
    "\n",
    "nb_tfidf.fit(X_train_vectors_tfidf, y_train)\n",
    "\n",
    "#Predict y value for test dataset\n",
    "y2_predict = nb_tfidf.predict(X_test_vectors_tfidf)\n",
    "y2_prob = nb_tfidf.predict_proba(X_test_vectors_tfidf)[:,1]\n",
    "\n",
    "print(classification_report(y_test,y2_predict))\n",
    "print('Confusion Matrix:',confusion_matrix(y_test, y2_predict))\n",
    " \n",
    "fpr, tpr, thresholds = roc_curve(y_test, y2_prob)\n",
    "roc_auc = auc(fpr, tpr)\n",
    "print('AUC:', roc_auc)\n",
    "print (\"Accuracy\", accuracy_score(y_test, y2_predict))\n",
    "print (\"F1-Score\", f1_score(y_test, y2_predict))\n",
    "print (\"Recall\", recall_score(y_test, y2_predict))"
   ]
  },
  {
   "cell_type": "code",
   "execution_count": 142,
   "id": "5b54faa7",
   "metadata": {},
   "outputs": [],
   "source": [
    "#save the model to disk\n",
    "import pickle\n",
    "\n",
    "#filename = 'C:\\\\Users\\\\tunji\\\\CMUProject\\\\lrModel.sav'\n",
    "#pickle.dump(lr_tfidf, open(filename, 'wb'))"
   ]
  },
  {
   "cell_type": "code",
   "execution_count": 143,
   "id": "bf404624",
   "metadata": {},
   "outputs": [
    {
     "name": "stdout",
     "output_type": "stream",
     "text": [
      "0.9130434782608695\n"
     ]
    }
   ],
   "source": [
    "#loaded_model = pickle.load(open(filename, 'rb'))\n",
    "#result = loaded_model.score(X_test_vectors_tfidf, y_test)\n",
    "#print(result)"
   ]
  },
  {
   "cell_type": "code",
   "execution_count": 144,
   "id": "fb0dd0c8",
   "metadata": {},
   "outputs": [],
   "source": [
    "#filename2 = 'C:\\\\Users\\\\tunji\\\\CMUProject\\\\nbModel.sav'\n",
    "#pickle.dump(nb_tfidf, open(filename2, 'wb'))"
   ]
  },
  {
   "cell_type": "code",
   "execution_count": 148,
   "id": "90942002",
   "metadata": {},
   "outputs": [],
   "source": [
    "#loaded_model = pickle.load(open(filename2, 'rb'))\n",
    "#result = loaded_model.score(X_test_vectors_tfidf, y_test)\n",
    "#print(result)\n"
   ]
  },
  {
   "cell_type": "code",
   "execution_count": null,
   "id": "d90b2ba2",
   "metadata": {},
   "outputs": [],
   "source": []
  }
 ],
 "metadata": {
  "kernelspec": {
   "display_name": "Python 3 (ipykernel)",
   "language": "python",
   "name": "python3"
  },
  "language_info": {
   "codemirror_mode": {
    "name": "ipython",
    "version": 3
   },
   "file_extension": ".py",
   "mimetype": "text/x-python",
   "name": "python",
   "nbconvert_exporter": "python",
   "pygments_lexer": "ipython3",
   "version": "3.9.7"
  }
 },
 "nbformat": 4,
 "nbformat_minor": 5
}
