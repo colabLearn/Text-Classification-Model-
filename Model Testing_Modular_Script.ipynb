{
 "cells": [
  {
   "cell_type": "code",
   "execution_count": 38,
   "id": "25cd897b",
   "metadata": {},
   "outputs": [],
   "source": [
    "import pandas as pd\n",
    "import seaborn as sns\n",
    "import matplotlib.pyplot as plt\n",
    "import spacy\n",
    "import nltk\n",
    "from nltk.corpus import wordnet\n",
    "from nltk.stem import WordNetLemmatizer\n",
    "from sklearn.model_selection import train_test_split\n",
    "from sklearn.feature_extraction.text import TfidfVectorizer\n",
    "from sklearn.metrics import classification_report, f1_score, accuracy_score, confusion_matrix,recall_score\n",
    "from sklearn.metrics import roc_curve, auc, roc_auc_score\n",
    "from sklearn.linear_model import LogisticRegression\n",
    "from sklearn.naive_bayes import MultinomialNB\n",
    "from sklearn import svm\n",
    "import numpy as np\n",
    "from sklearn import tree, preprocessing\n",
    "import pickle\n",
    "from nltk.corpus import stopwords\n",
    "import re\n",
    "from nltk.tokenize import word_tokenize\n",
    "import tensorflow_hub as hub\n",
    "import tensorflow_text as text\n",
    "import tensorflow as tf\n",
    "\n",
    "data = pd.read_csv ('D:/NLP_Data/Data4Test.csv', encoding='ISO-8859-1')"
   ]
  },
  {
   "cell_type": "code",
   "execution_count": 39,
   "id": "7ce0e3de",
   "metadata": {},
   "outputs": [
    {
     "name": "stdout",
     "output_type": "stream",
     "text": [
      "0    93\n",
      "1    57\n",
      "Name: Label, dtype: int64\n"
     ]
    },
    {
     "name": "stderr",
     "output_type": "stream",
     "text": [
      "C:\\Users\\tunji\\anaconda3\\envs\\nlp\\lib\\site-packages\\seaborn\\_decorators.py:36: FutureWarning: Pass the following variables as keyword args: x, y. From version 0.12, the only valid positional argument will be `data`, and passing other arguments without an explicit keyword will result in an error or misinterpretation.\n",
      "  warnings.warn(\n"
     ]
    },
    {
     "data": {
      "text/plain": [
       "<AxesSubplot:ylabel='Label'>"
      ]
     },
     "execution_count": 39,
     "metadata": {},
     "output_type": "execute_result"
    },
    {
     "data": {
      "image/png": "[encoded data removed]",
      "text/plain": [
       "<Figure size 432x288 with 1 Axes>"
      ]
     },
     "metadata": {
      "needs_background": "light"
     },
     "output_type": "display_data"
    }
   ],
   "source": [
    "#Check the ratio of desired response[1] to undesired responses[0]\n",
    "\n",
    "x=data['Label'].value_counts()\n",
    "print(x)\n",
    "sns.barplot(x.index,x)"
   ]
  },
  {
   "cell_type": "code",
   "execution_count": 40,
   "id": "f0e53e2a",
   "metadata": {},
   "outputs": [],
   "source": [
    "#Function to make sure the responses labelled [0] those labelled [1] are ballanced\n",
    "#Function to balance the class\n",
    "#Arguments => data, catColum -> name of column of the scores i.e. label\n",
    "# cat_high -> the category of score that is higher i.e. [0]\n",
    "# cat_low -> the category of score that is lower i.e. [1]\n",
    "#Ballancing technique is -> downsampling (disadvantage is that we will loose some of our training data)\n",
    "\n",
    "def balanceClassCategory (data, catColumn, cat_high, cat_low):\n",
    "    #shuffled = df.sample(frac=1).reset_index()\n",
    "    df = data.sample(frac=1).reset_index()\n",
    "    df_cat_high= df[df['Label']== cat_high]\n",
    "    df_cat_low = df[df['Label']== cat_low]\n",
    "    df_cat_high_downsampled = df_cat_high.sample(df_cat_low.shape[0])\n",
    "    df_balanced = pd.concat([df_cat_high_downsampled, df_cat_low])\n",
    "    \n",
    "    shuffled = df_balanced.sample(frac=1)\n",
    "    return shuffled"
   ]
  },
  {
   "cell_type": "code",
   "execution_count": 41,
   "id": "9903b1e5",
   "metadata": {},
   "outputs": [],
   "source": [
    "# balanceClassCategory function on the data\n",
    "data = balanceClassCategory (data, \"Label\", 0, 1)"
   ]
  },
  {
   "cell_type": "code",
   "execution_count": 42,
   "id": "50d55f7e",
   "metadata": {},
   "outputs": [
    {
     "name": "stdout",
     "output_type": "stream",
     "text": [
      "1    57\n",
      "0    57\n",
      "Name: Label, dtype: int64\n"
     ]
    },
    {
     "name": "stderr",
     "output_type": "stream",
     "text": [
      "C:\\Users\\tunji\\anaconda3\\envs\\nlp\\lib\\site-packages\\seaborn\\_decorators.py:36: FutureWarning: Pass the following variables as keyword args: x, y. From version 0.12, the only valid positional argument will be `data`, and passing other arguments without an explicit keyword will result in an error or misinterpretation.\n",
      "  warnings.warn(\n"
     ]
    },
    {
     "data": {
      "text/plain": [
       "<AxesSubplot:ylabel='Label'>"
      ]
     },
     "execution_count": 42,
     "metadata": {},
     "output_type": "execute_result"
    },
    {
     "data": {
      "image/png": "[encoded data removed]",
      "text/plain": [
       "<Figure size 432x288 with 1 Axes>"
      ]
     },
     "metadata": {
      "needs_background": "light"
     },
     "output_type": "display_data"
    }
   ],
   "source": [
    "#Visualize the balanced data\n",
    "x=data['Label'].value_counts()\n",
    "print(x)\n",
    "sns.barplot(x.index,x)"
   ]
  },
  {
   "cell_type": "code",
   "execution_count": 43,
   "id": "1d8e13e1",
   "metadata": {},
   "outputs": [
    {
     "data": {
      "image/png": "[encoded data removed]",
      "text/plain": [
       "<Figure size 720x288 with 2 Axes>"
      ]
     },
     "metadata": {
      "needs_background": "light"
     },
     "output_type": "display_data"
    }
   ],
   "source": [
    "#Vsualize relevant information about our data\n",
    "#for example here we visualize word-count of responses\n",
    "#we compare between desired[1] and less-desired[0] responses\n",
    "\n",
    "data['word_count'] = data['Response'].apply(lambda x: len(str(x).split()))\n",
    "fig,(ax1,ax2)=plt.subplots(1,2,figsize=(10,4))\n",
    "train_words=data[data['Label']==1]['word_count']\n",
    "ax1.hist(train_words,color='green')\n",
    "ax1.set_title('Desired responses')\n",
    "train_words=data[data['Label']==0]['word_count']\n",
    "ax2.hist(train_words,color='red')\n",
    "ax2.set_title('Less desired reponses')\n",
    "fig.suptitle('Word  count per response')\n",
    "plt.show()\n",
    "\n",
    "#plt.savefig('D:/NLP_SentimentA_RTE_Data/Images/wordCountPerRespsonseIn_0_1.jpg')"
   ]
  },
  {
   "cell_type": "code",
   "execution_count": 44,
   "id": "30a5cfb3",
   "metadata": {},
   "outputs": [],
   "source": [
    "def preprocesing_1(In_data):\n",
    "    dataRespList = In_data['Response'].tolist()\n",
    "    dataLabelList = In_data['Label'].tolist()\n",
    "    allowed_word_type = [\"J\", \"R\", \"V\"]\n",
    "    \n",
    "    stop_words = list(set(stopwords.words('english')))\n",
    "    cleanResp =[]\n",
    "    LabelList=[]\n",
    "    OriginalResp =[]\n",
    "    for resp, lb in zip(dataRespList, dataLabelList):\n",
    "        # Remove special characters\n",
    "        temp = [re.sub(r\"[^a-zA-Z0-9]+\", ' ', k) for k in resp.split(\"\\n\")]\n",
    "        cleaned = ' '.join(map(str,  temp))\n",
    "        #cleaned = re.sub(r'[^\\w\\s]','',resp)\n",
    "        OriginalResp.append(cleaned)\n",
    "        \n",
    "        tokenized = word_tokenize(cleaned)\n",
    "        stopped = [w for w in tokenized if not w in stop_words]\n",
    "        pos = nltk.pos_tag(stopped)\n",
    "        all_words = []\n",
    "        \n",
    "        for w in pos:\n",
    "            if w[1][0] in allowed_word_type:\n",
    "                all_words.append(w[0].lower())\n",
    "        joinedToken = ' '.join(map(str,all_words))\n",
    "        cleanResp.append(joinedToken)\n",
    "        LabelList.append(lb)\n",
    "    \n",
    "    data2 = pd.DataFrame(np.array(OriginalResp).T)\n",
    "    data2.columns = ['Response']\n",
    "    data2[\"clean_text\"] = pd.DataFrame(np.array(cleanResp).T)\n",
    "    data2['Label'] = pd.DataFrame(np.array(LabelList).T)\n",
    "    \n",
    "    return data2"
   ]
  },
  {
   "cell_type": "code",
   "execution_count": 45,
   "id": "a5bea558",
   "metadata": {},
   "outputs": [],
   "source": [
    "#Preprocess the data to remove punctuations and stop words\n",
    "#the Brown Corpus text contains specific punctuation sequences \n",
    "#( `,and``) that should be removed. You can do that by adding the character sequences \n",
    "#to the list of stop words (easier than adding characters to the punctuation module)\n",
    "\n",
    "nlp = spacy.load(\"en_core_web_sm\")\n",
    "\n",
    "nlp.Defaults.stop_words.add(\"`,\")\n",
    "nlp.Defaults.stop_words.add(\"``\")"
   ]
  },
  {
   "cell_type": "code",
   "execution_count": 46,
   "id": "801df642",
   "metadata": {},
   "outputs": [],
   "source": [
    "\n",
    "wl = WordNetLemmatizer()\n",
    " \n",
    "# This is a helper function to map NTLK position tags\n",
    "def get_wordnet_pos(tag):\n",
    "    if tag.startswith('J'):\n",
    "        return wordnet.ADJ\n",
    "    elif tag.startswith('V'):\n",
    "        return wordnet.VERB\n",
    "    elif tag.startswith('N'):\n",
    "        return wordnet.NOUN\n",
    "    elif tag.startswith('R'):\n",
    "        return wordnet.ADV\n",
    "    else:\n",
    "        return wordnet.NOUN"
   ]
  },
  {
   "cell_type": "code",
   "execution_count": 47,
   "id": "b7abf457",
   "metadata": {},
   "outputs": [],
   "source": [
    "#Lematizaton that works with string \n",
    "#Return string of all the tokens, separated by spaces.\n",
    "#nltk.download()\n",
    "\n",
    "def lemmatizeWorkingWithStrings(text):\n",
    "    temp = [re.sub(r\"[^a-zA-Z0-9]+\", ' ', k) for k in text.split(\"\\n\")]\n",
    "    cleaned = ' '.join(map(str,  temp))\n",
    "    doc = nlp(cleaned)\n",
    "    tokens = [token.lemma_ for token in doc if not (token.is_stop or token.is_punct)]\n",
    "    word_pos_tags = nltk.pos_tag(tokens) # Get position tags\n",
    "    a=[wl.lemmatize(tag[0], get_wordnet_pos(tag[1])) for idx, tag in enumerate(word_pos_tags)] # Map the position tag and lemmatize the word/token\n",
    "    return ' '.join(a)"
   ]
  },
  {
   "cell_type": "code",
   "execution_count": 48,
   "id": "c5f23951",
   "metadata": {},
   "outputs": [],
   "source": [
    "#Remove puctuation and stop words, stem and lemmatize data\n",
    "#data['clean_text'] = data['Response'].apply(lambda x: lemmatizeWorkingWithStrings(x))\n",
    "\n",
    "data = preprocesing_1(data)"
   ]
  },
  {
   "cell_type": "code",
   "execution_count": 49,
   "id": "69a2cdc4",
   "metadata": {},
   "outputs": [
    {
     "data": {
      "text/html": [
       "<div>\n",
       "<style scoped>\n",
       "    .dataframe tbody tr th:only-of-type {\n",
       "        vertical-align: middle;\n",
       "    }\n",
       "\n",
       "    .dataframe tbody tr th {\n",
       "        vertical-align: top;\n",
       "    }\n",
       "\n",
       "    .dataframe thead th {\n",
       "        text-align: right;\n",
       "    }\n",
       "</style>\n",
       "<table border=\"1\" class=\"dataframe\">\n",
       "  <thead>\n",
       "    <tr style=\"text-align: right;\">\n",
       "      <th></th>\n",
       "      <th>Response</th>\n",
       "      <th>clean_text</th>\n",
       "      <th>Label</th>\n",
       "    </tr>\n",
       "  </thead>\n",
       "  <tbody>\n",
       "    <tr>\n",
       "      <th>0</th>\n",
       "      <td>I love how you took the time to set this probl...</td>\n",
       "      <td>love took set easy solve apprecieat hard put set</td>\n",
       "      <td>1</td>\n",
       "    </tr>\n",
       "    <tr>\n",
       "      <th>1</th>\n",
       "      <td>I would make the correction playful asking the...</td>\n",
       "      <td>make playful asking aligned using convey posit...</td>\n",
       "      <td>1</td>\n",
       "    </tr>\n",
       "    <tr>\n",
       "      <th>2</th>\n",
       "      <td>Kanye let us go through how you solved this</td>\n",
       "      <td>let go solved</td>\n",
       "      <td>1</td>\n",
       "    </tr>\n",
       "    <tr>\n",
       "      <th>3</th>\n",
       "      <td>I would give encouragement and ask him to show...</td>\n",
       "      <td>give thought want guide recognize put wrong ex...</td>\n",
       "      <td>1</td>\n",
       "    </tr>\n",
       "    <tr>\n",
       "      <th>4</th>\n",
       "      <td>I would tell him to align the numbers better s...</td>\n",
       "      <td>tell align better easier made mistake</td>\n",
       "      <td>0</td>\n",
       "    </tr>\n",
       "    <tr>\n",
       "      <th>...</th>\n",
       "      <td>...</td>\n",
       "      <td>...</td>\n",
       "      <td>...</td>\n",
       "    </tr>\n",
       "    <tr>\n",
       "      <th>95</th>\n",
       "      <td>You are close Recheck your arithmetic</td>\n",
       "      <td>close</td>\n",
       "      <td>1</td>\n",
       "    </tr>\n",
       "    <tr>\n",
       "      <th>96</th>\n",
       "      <td>First I would praise him for his attempted sol...</td>\n",
       "      <td>praise attempted then ask prompt explain logic...</td>\n",
       "      <td>1</td>\n",
       "    </tr>\n",
       "    <tr>\n",
       "      <th>97</th>\n",
       "      <td>Are you sure you have layed out the problem co...</td>\n",
       "      <td>sure layed correctly</td>\n",
       "      <td>0</td>\n",
       "    </tr>\n",
       "    <tr>\n",
       "      <th>98</th>\n",
       "      <td>This is almost correct but you have a small er...</td>\n",
       "      <td>almost correct small started</td>\n",
       "      <td>0</td>\n",
       "    </tr>\n",
       "    <tr>\n",
       "      <th>99</th>\n",
       "      <td>see if we can reverse the operation</td>\n",
       "      <td>see reverse</td>\n",
       "      <td>0</td>\n",
       "    </tr>\n",
       "  </tbody>\n",
       "</table>\n",
       "<p>100 rows × 3 columns</p>\n",
       "</div>"
      ],
      "text/plain": [
       "                                             Response  \\\n",
       "0   I love how you took the time to set this probl...   \n",
       "1   I would make the correction playful asking the...   \n",
       "2        Kanye let us go through how you solved this    \n",
       "3   I would give encouragement and ask him to show...   \n",
       "4   I would tell him to align the numbers better s...   \n",
       "..                                                ...   \n",
       "95             You are close Recheck your arithmetic    \n",
       "96  First I would praise him for his attempted sol...   \n",
       "97  Are you sure you have layed out the problem co...   \n",
       "98  This is almost correct but you have a small er...   \n",
       "99                see if we can reverse the operation   \n",
       "\n",
       "                                           clean_text  Label  \n",
       "0    love took set easy solve apprecieat hard put set      1  \n",
       "1   make playful asking aligned using convey posit...      1  \n",
       "2                                       let go solved      1  \n",
       "3   give thought want guide recognize put wrong ex...      1  \n",
       "4               tell align better easier made mistake      0  \n",
       "..                                                ...    ...  \n",
       "95                                              close      1  \n",
       "96  praise attempted then ask prompt explain logic...      1  \n",
       "97                               sure layed correctly      0  \n",
       "98                       almost correct small started      0  \n",
       "99                                        see reverse      0  \n",
       "\n",
       "[100 rows x 3 columns]"
      ]
     },
     "execution_count": 49,
     "metadata": {},
     "output_type": "execute_result"
    }
   ],
   "source": [
    "data.head(100)\n",
    "#data.to_csv('D:/NLP_SentimentA_RTE_Data/Images/testClean2.csv', index= True)"
   ]
  },
  {
   "cell_type": "code",
   "execution_count": 50,
   "id": "7baa188c",
   "metadata": {},
   "outputs": [],
   "source": [
    "#function splits data into X_train, X_test -> [clean_text], y_train, y_test-> [Label] \n",
    "#stratify to ensure even distribution of responses labeled [0] or [1] in you train and test data\n",
    "\n",
    "def splitDataToTrainAndTest(In_data, testDataPercentage):\n",
    "    \n",
    "    X_train, X_test, y_train, y_test = train_test_split(In_data[\"clean_text\"],In_data[\"Label\"],test_size=testDataPercentage,shuffle=True,stratify=In_data['Label'])\n",
    "    \n",
    "    return  X_train, X_test, y_train, y_test"
   ]
  },
  {
   "cell_type": "code",
   "execution_count": null,
   "id": "e4ff67e2",
   "metadata": {},
   "outputs": [],
   "source": []
  },
  {
   "cell_type": "code",
   "execution_count": 51,
   "id": "e5c4fd3c",
   "metadata": {},
   "outputs": [],
   "source": [
    "#model vectorizes the test data\n",
    "def vectorizeXtrainAndX_test(In_X_train, In_X_test):\n",
    "   \n",
    "        \n",
    "    tfidf_vectorizer = TfidfVectorizer(use_idf=True)\n",
    "    X_train_vectors_tfidf = tfidf_vectorizer.fit_transform(In_X_train) \n",
    "    X_test_vectors_tfidf = tfidf_vectorizer.transform(In_X_test)\n",
    "    \n",
    "    return X_train_vectors_tfidf, X_test_vectors_tfidf"
   ]
  },
  {
   "cell_type": "code",
   "execution_count": null,
   "id": "eeec73c5",
   "metadata": {},
   "outputs": [],
   "source": []
  },
  {
   "cell_type": "code",
   "execution_count": 52,
   "id": "8dd985f2",
   "metadata": {},
   "outputs": [],
   "source": [
    "def trainAndTest_lr_Model(In_X_train_vectors_tfidf, In_X_test_vectors_tfidf,In_X_test, In_y_train, In_y_test):\n",
    "    \n",
    "    #X_train, X_test, y_train, y_test = splitDataToTrainAndTest(In_data)\n",
    "    \n",
    "    #X_train_vectors_tfidf, X_test_vectors_tfidf = vectorizeXtrainAndX_test(X_train, X_test)\n",
    "    \n",
    "   \n",
    "    lr_tfidf=LogisticRegression(solver = 'liblinear', C=10, penalty = 'l2')\n",
    "    \n",
    "    lr_tfidf.fit(X_train_vectors_tfidf, In_y_train)\n",
    "    \n",
    "    y_predict = lr_tfidf.predict(X_test_vectors_tfidf)\n",
    "\n",
    "    y_prob = lr_tfidf.predict_proba(X_test_vectors_tfidf)[:,1]\n",
    "\n",
    "    report_lr = classification_report(In_y_test, y_predict, output_dict=True)\n",
    "    \n",
    "    cm = confusion_matrix(In_y_test, y_predict)\n",
    "    acc = accuracy_score(In_y_test, y_predict)\n",
    "    f1= f1_score(In_y_test, y_predict)\n",
    "    recall=recall_score(In_y_test, y_predict)\n",
    "        \n",
    "        \n",
    "    \n",
    "    \n",
    "    #print(classification_report(In_y_test, y_predict))\n",
    "    \n",
    "    #print('Confusion Matrix:',confusion_matrix(In_y_test, y_predict))\n",
    "    \n",
    "    #fpr, tpr, thresholds = roc_curve(y_test, y_prob)\n",
    "    \n",
    "    #roc_auc = auc(fpr, tpr)\n",
    "    #listOfX_testValues = X_test.values.tolist()\n",
    "    #rawDatabased_on_testData = In_data[In_data['clean_text'].isin(listOfX_testValues)]\n",
    "    #raw_X_testData=rawDatabased_on_testData['Response']\n",
    "    \n",
    "    #nReport = pd.DataFrame(raw_X_testData)\n",
    "    #nReport['clean_text']=X_test\n",
    "    #nReport[\"Human Label\"] = y_test\n",
    "    #nReport[\"LogisticReg Prediction\"] = y_predict\n",
    "    #nReport.to_csv('D:/NLP_SentimentA_RTE_Data/Images/lr/'+'lr'+str(runNum)+'.csv', index= True)\n",
    "    \n",
    "    #filename = 'C:/Users/tunji/CMUProject/SavedModels/lrModel'+str(runNum)+'.sav'\n",
    "    #pickle.dump(lr_tfidf, open(filename, 'wb'))\n",
    "    #print('AUC:', roc_auc)\n",
    "    #print (\"Accuracy\", accuracy_score(In_y_test, y_predict))\n",
    "    #print (\"F1-Score\", f1_score(In_y_test, y_predict))\n",
    "    \n",
    "    #print (\"Recall\", recall_score(In_y_test, y_predict))\n",
    "    \n",
    "    return acc, f1, recall, cm, y_predict,In_y_train, In_X_test, lr_tfidf"
   ]
  },
  {
   "cell_type": "code",
   "execution_count": null,
   "id": "86bf2b1a",
   "metadata": {},
   "outputs": [],
   "source": []
  },
  {
   "cell_type": "code",
   "execution_count": null,
   "id": "6447c7dc",
   "metadata": {},
   "outputs": [],
   "source": []
  },
  {
   "cell_type": "code",
   "execution_count": 53,
   "id": "fcaf82be",
   "metadata": {},
   "outputs": [],
   "source": [
    "def trainAndTest_nb_Model(In_X_train_vectors_tfidf, In_X_test_vectors_tfidf,In_X_test, In_y_train, In_y_test):\n",
    "    \n",
    "    #X_train, X_test, y_train, y_test = splitDataToTrainAndTest(In_data)\n",
    "    \n",
    "    #X_train_vectors_tfidf, X_test_vectors_tfidf = vectorizeXtrainAndX_test(X_train, X_test)\n",
    "   \n",
    "    nb_tfidf = MultinomialNB()\n",
    "\n",
    "    nb_tfidf.fit(X_train_vectors_tfidf, In_y_train)\n",
    "    \n",
    "    y_predict = nb_tfidf.predict(X_test_vectors_tfidf)\n",
    "\n",
    "    y_prob = nb_tfidf.predict_proba(X_test_vectors_tfidf)[:,1]\n",
    "\n",
    "    report_lr = classification_report(In_y_test, y_predict, output_dict=True)\n",
    "    \n",
    "    cm = confusion_matrix(In_y_test, y_predict)\n",
    "    acc = accuracy_score(In_y_test, y_predict)\n",
    "    f1= f1_score(In_y_test, y_predict)\n",
    "    recall=recall_score(In_y_test, y_predict)\n",
    "        \n",
    "        \n",
    "        \n",
    "    \n",
    "   \n",
    "    return acc, f1, recall, cm, y_predict, In_y_train, In_X_test, nb_tfidf"
   ]
  },
  {
   "cell_type": "code",
   "execution_count": null,
   "id": "f3996844",
   "metadata": {},
   "outputs": [],
   "source": []
  },
  {
   "cell_type": "code",
   "execution_count": 54,
   "id": "803dd5d7",
   "metadata": {},
   "outputs": [],
   "source": [
    "def trainAndTest_SVM_Model(In_X_train_vectors_tfidf, In_X_test_vectors_tfidf,In_X_test, In_y_train, In_y_test):\n",
    "    \n",
    "    #X_train, X_test, y_train, y_test = splitDataToTrainAndTest(In_data)\n",
    "    \n",
    "    #X_train_vectors_tfidf, X_test_vectors_tfidf = vectorizeXtrainAndX_test(X_train, X_test)\n",
    "    \n",
    "   \n",
    "    SVM = svm.SVC(C=1.0, kernel = 'linear', degree=3, gamma='auto')\n",
    "    SVM.fit(X_train_vectors_tfidf, In_y_train)\n",
    "    y_predict = SVM.predict(X_test_vectors_tfidf)\n",
    "\n",
    "    #y_prob = nb_tfidf.predict_proba(In_X_test_vectors_tfidf)[:,1]\n",
    "    report_nb = classification_report(In_y_test, y_predict, output_dict=True)\n",
    "        \n",
    "    cm = confusion_matrix(In_y_test, y_predict)\n",
    "    acc = accuracy_score(In_y_test, y_predict)\n",
    "    f1= f1_score(In_y_test, y_predict)\n",
    "        \n",
    "    recall=recall_score(In_y_test, y_predict)\n",
    "        \n",
    "        \n",
    "    \n",
    "    #print(classification_report(In_y_test, y_predict))\n",
    "    \n",
    "    #print('Confusion Matrix:',confusion_matrix(In_y_test, y_predict))\n",
    "    \n",
    "    #fpr, tpr, thresholds = roc_curve(In_y_test, y_prob)\n",
    "    \n",
    "    #roc_auc = auc(fpr, tpr)\n",
    "    \n",
    "    #listOfX_testValues = X_test.values.tolist()\n",
    "    #rawDatabased_on_testData = In_data[In_data['clean_text'].isin(listOfX_testValues)]\n",
    "    #raw_X_testData=rawDatabased_on_testData['Response']\n",
    "    \n",
    "    #nReport = pd.DataFrame(raw_X_testData)\n",
    "    #nReport['clean_text']=X_test\n",
    "    #nReport[\"Human Label\"] = y_test\n",
    "    #nReport[\"SVM Prediction\"] = y_predict\n",
    "    #nReport.to_csv('D:/NLP_SentimentA_RTE_Data/Images/svm/'+'SVM'+str(runsNum)+'.csv', index= True)\n",
    "    \n",
    "    #filename = 'C:/Users/tunji/CMUProject/SavedModels/svmModel'+str(runsNum)+'.sav'\n",
    "    #pickle.dump(SVM, open(filename, 'wb'))\n",
    "    #print('AUC:', roc_auc)\n",
    "    #print (\"Accuracy\", accuracy_score(In_y_test, y_predict))\n",
    "    #print (\"F1-Score\", f1_score(In_y_test, y_predict))\n",
    "    \n",
    "    #print (\"Recall\", recall_score(In_y_test, y_predict))\n",
    "    \n",
    "    return acc, f1, recall, cm, y_predict, In_y_train, In_X_test, SVM"
   ]
  },
  {
   "cell_type": "code",
   "execution_count": null,
   "id": "4c5c538a",
   "metadata": {},
   "outputs": [],
   "source": []
  },
  {
   "cell_type": "code",
   "execution_count": null,
   "id": "9be98ab6",
   "metadata": {},
   "outputs": [],
   "source": []
  },
  {
   "cell_type": "code",
   "execution_count": 55,
   "id": "2bf8248d",
   "metadata": {},
   "outputs": [],
   "source": [
    "def trainAndTest_tree_Model(In_X_train_vectors_tfidf, In_X_test_vectors_tfidf, In_X_test, In_y_train, In_y_test):\n",
    "    \n",
    "    treeModel = tree.DecisionTreeClassifier()\n",
    "    treeModel= treeModel.fit(X_train_vectors_tfidf, In_y_train)\n",
    "    y_predict = treeModel.predict(X_test_vectors_tfidf)\n",
    "        \n",
    "    report_nb = classification_report(In_y_test, y_predict, output_dict=True)\n",
    "        \n",
    "    cm = confusion_matrix(In_y_test, y_predict)\n",
    "        \n",
    "    acc = accuracy_score(In_y_test, y_predict)\n",
    "        \n",
    "    f1= f1_score(In_y_test, y_predict)\n",
    "        \n",
    "    recall=recall_score(In_y_test, y_predict)\n",
    "        \n",
    "        \n",
    "    \n",
    "    #listOfX_testValues = X_test.values.tolist()\n",
    "    #awDatabased_on_testData = In_data[In_data['clean_text'].isin(listOfX_testValues)]\n",
    "    #raw_X_testData=rawDatabased_on_testData['Response']\n",
    "    \n",
    "    #nReport = pd.DataFrame(raw_X_testData)\n",
    "    #nReport['clean_text']=X_test\n",
    "    #nReport[\"Human Label\"] = y_test\n",
    "    #nReport[\"Decission Tree Prediction\"] = y_predict\n",
    "    \n",
    "    #nReport.to_csv('D:/NLP_SentimentA_RTE_Data/Images/tree/'+'tree'+str(runsNum)+'.csv', index= True)\n",
    "    \n",
    "    #filename = 'C:/Users/tunji/CMUProject/SavedModels/treeModel'+str(runsNum)+'.sav'\n",
    "    #pickle.dump(treeModel, open(filename, 'wb'))\n",
    "    \n",
    "    return acc, f1, recall, cm, y_predict, In_y_train, In_X_test, treeModel\n",
    "    "
   ]
  },
  {
   "cell_type": "code",
   "execution_count": null,
   "id": "8fbc4018",
   "metadata": {},
   "outputs": [],
   "source": []
  },
  {
   "cell_type": "code",
   "execution_count": 56,
   "id": "21e39b42",
   "metadata": {},
   "outputs": [],
   "source": [
    "\n",
    "bert_preprocess = hub.KerasLayer(\"https://tfhub.dev/tensorflow/bert_en_uncased_preprocess/3\")\n",
    "bert_encoder = hub.KerasLayer(\"https://tfhub.dev/tensorflow/bert_en_uncased_L-12_H-768_A-12/4\")"
   ]
  },
  {
   "cell_type": "code",
   "execution_count": 57,
   "id": "4fc54ce3",
   "metadata": {},
   "outputs": [],
   "source": [
    "\n",
    "text_input = tf.keras.layers.Input(shape=(), dtype=tf.string, name='text')\n",
    "preprocessed_text = bert_preprocess(text_input)\n",
    "outputs = bert_encoder(preprocessed_text)\n",
    "l = tf.keras.layers.Dropout(0.1, name=\"dropout\")(outputs['pooled_output'])\n",
    "l = tf.keras.layers.Dense(1, activation='sigmoid', name=\"output\")(l)\n"
   ]
  },
  {
   "cell_type": "code",
   "execution_count": 58,
   "id": "90ed933d",
   "metadata": {},
   "outputs": [],
   "source": [
    "def trainAndTest_BERT_Model(In_X_train, In_X_test, In_y_train, In_y_test):\n",
    "    model = tf.keras.Model(inputs=[text_input], outputs = [l])\n",
    "    \n",
    "    METRICS = [\n",
    "        tf.keras.metrics.BinaryAccuracy(name='accuracy'),\n",
    "        tf.keras.metrics.Precision(name='precision'),\n",
    "        tf.keras.metrics.Recall(name='recall')\n",
    "    ]\n",
    "    model.compile(optimizer='adam',\n",
    "    loss='binary_crossentropy',\n",
    "    metrics=METRICS)\n",
    "    \n",
    "    model.fit(In_X_train, In_y_train, epochs=10)\n",
    "    \n",
    "    y_predict = model.predict(In_X_test)\n",
    "    y_predict = y_predict.flatten()\n",
    "    y_predict = np.where(y_predict > 0.5, 1, 0)\n",
    "    \n",
    "    report_BERT = classification_report(In_y_test, y_predict, output_dict=True)\n",
    "    \n",
    "    cm = confusion_matrix(In_y_test, y_predict)\n",
    "        \n",
    "    acc = accuracy_score(In_y_test, y_predict)\n",
    "        \n",
    "    f1= f1_score(In_y_test, y_predict)\n",
    "        \n",
    "    recall=recall_score(In_y_test, y_predict)\n",
    "    \n",
    "    \n",
    "    return acc, f1, recall, cm, y_predict,In_y_train, In_X_test, model\n",
    "    "
   ]
  },
  {
   "cell_type": "code",
   "execution_count": 59,
   "id": "8853081f",
   "metadata": {},
   "outputs": [],
   "source": [
    "#acc_lr, f1_lr, recall_lr,cm_lr=trainAndTest_lr_Model(X_train_vectors_tfidf, X_test_vectors_tfidf)"
   ]
  },
  {
   "cell_type": "code",
   "execution_count": 60,
   "id": "f5056262",
   "metadata": {},
   "outputs": [],
   "source": [
    "#X_train, X_test, y_train, y_test= splitDataToTrainAndTest(data2, 0.5)"
   ]
  },
  {
   "cell_type": "code",
   "execution_count": 61,
   "id": "b1a3e1c5",
   "metadata": {},
   "outputs": [],
   "source": [
    "#model.fit(X_train, y_train, epochs=10)"
   ]
  },
  {
   "cell_type": "code",
   "execution_count": 62,
   "id": "eb50c402",
   "metadata": {},
   "outputs": [],
   "source": [
    "# X_train, X_test, y_train, y_test= splitDataToTrainAndTest(data2, 0.5)"
   ]
  },
  {
   "cell_type": "code",
   "execution_count": 63,
   "id": "8efd0778",
   "metadata": {},
   "outputs": [],
   "source": [
    "#acc_BERT, f1_BERT, recall_BERT,cm_BERT=trainAndTest_BERT_Model(X_train, X_test, y_train, y_test)"
   ]
  },
  {
   "cell_type": "code",
   "execution_count": 64,
   "id": "d7f90a5b",
   "metadata": {},
   "outputs": [
    {
     "name": "stdout",
     "output_type": "stream",
     "text": [
      "Epoch 1/10\n",
      "2/2 [==============================] - 24s 5s/step - loss: 0.7173 - accuracy: 0.5263 - precision: 0.5200 - recall: 0.4643\n",
      "Epoch 2/10\n",
      "2/2 [==============================] - 10s 4s/step - loss: 0.7177 - accuracy: 0.4561 - precision: 0.4681 - recall: 0.7857\n",
      "Epoch 3/10\n",
      "2/2 [==============================] - 10s 5s/step - loss: 0.7156 - accuracy: 0.4912 - precision: 0.4857 - recall: 0.6071\n",
      "Epoch 4/10\n",
      "2/2 [==============================] - 10s 4s/step - loss: 0.7058 - accuracy: 0.5088 - precision: 0.5000 - recall: 0.3929\n",
      "Epoch 5/10\n",
      "2/2 [==============================] - 9s 4s/step - loss: 0.6686 - accuracy: 0.5088 - precision: 0.5000 - recall: 0.1429\n",
      "Epoch 6/10\n",
      "2/2 [==============================] - 10s 4s/step - loss: 0.6997 - accuracy: 0.4912 - precision: 0.4706 - recall: 0.2857\n",
      "Epoch 7/10\n",
      "2/2 [==============================] - 10s 4s/step - loss: 0.7003 - accuracy: 0.4737 - precision: 0.4500 - recall: 0.3214\n",
      "Epoch 8/10\n",
      "2/2 [==============================] - 10s 4s/step - loss: 0.6917 - accuracy: 0.4737 - precision: 0.4643 - recall: 0.4643\n",
      "Epoch 9/10\n",
      "2/2 [==============================] - 10s 4s/step - loss: 0.6628 - accuracy: 0.5263 - precision: 0.5143 - recall: 0.6429\n",
      "Epoch 10/10\n",
      "2/2 [==============================] - 11s 5s/step - loss: 0.7269 - accuracy: 0.4561 - precision: 0.4483 - recall: 0.4643\n",
      "2/2 [==============================] - 13s 5s/step\n"
     ]
    }
   ],
   "source": [
    "#y_predicted = y_predicted.flatten()\n",
    "#y_predict = np.where(y_predicted > 0.5, 1, 0)\n",
    "#y_predic\n",
    "X_train, X_test, y_train, y_test= splitDataToTrainAndTest(data, 0.5)\n",
    "    \n",
    "acc_BERT, f1_BERT, recall_BERT, cm_BERT, y_predict_BERT,y_train_BERT, X_test_BERT, model_BERT=trainAndTest_BERT_Model(X_train, X_test, y_train, y_test)"
   ]
  },
  {
   "cell_type": "code",
   "execution_count": 65,
   "id": "f619be7f",
   "metadata": {},
   "outputs": [
    {
     "name": "stdout",
     "output_type": "stream",
     "text": [
      "0.543859649122807 0.6140350877192983 0.5614035087719298 0.5263157894736842 0.5964912280701754\n"
     ]
    }
   ],
   "source": [
    "#for i in range(10):\n",
    "    #X_train, X_test, y_train, y_test= splitDataToTrainAndTest(data2, 0.5)\n",
    "#X_train, X_test, y_train, y_test= splitDataToTrainAndTest(data, 0.5)\n",
    "    \n",
    "X_train_vectors_tfidf, X_test_vectors_tfidf= vectorizeXtrainAndX_test(X_train, X_test)\n",
    "    \n",
    "    \n",
    "acc_lr, f1_lr, recall_lr, cm_lr, y_predict_lr,y_train_lr, X_test_lr, model_lr =trainAndTest_lr_Model(X_train_vectors_tfidf, X_test_vectors_tfidf, X_test, y_train, y_test)\n",
    "\n",
    "acc_nb, f1_nb, recall_nb, cm_nb, y_predict_nb, y_train_nb, X_test_nb, model_nb=trainAndTest_nb_Model(X_train_vectors_tfidf, X_test_vectors_tfidf,X_test, y_train, y_test)\n",
    "\n",
    "acc_svm, f1_svm, recall_svm, cm_svm, y_predict_svm, y_train_svm, X_test_svm, model_svm=trainAndTest_SVM_Model(X_train_vectors_tfidf, X_test_vectors_tfidf,X_test, y_train, y_test)\n",
    "\n",
    "acc_tree, f1_tree, recall_tree, cm_tree, y_predict_tree, y_train_tree, X_test_tree, model_tree=trainAndTest_tree_Model(X_train_vectors_tfidf, X_test_vectors_tfidf,X_test, y_train, y_test)\n",
    "    \n",
    "print(acc_lr, acc_nb, acc_svm, acc_tree, acc_BERT)"
   ]
  },
  {
   "cell_type": "code",
   "execution_count": 66,
   "id": "5efd54c1",
   "metadata": {},
   "outputs": [],
   "source": [
    "train_test_ratio='testinLingFt'"
   ]
  },
  {
   "cell_type": "code",
   "execution_count": 92,
   "id": "4511af17",
   "metadata": {},
   "outputs": [],
   "source": [
    "accuracyList = [acc_lr, acc_nb, acc_svm, acc_tree, acc_BERT]\n",
    "f1Score =[f1_lr, f1_nb, f1_svm, f1_tree, f1_BERT]\n",
    "recall = [recall_lr, recall_nb, recall_svm,recall_tree, recall_BERT]\n",
    "metricList= ['Accuracy', 'F1-Score', 'Recal']\n",
    "modelList = ['Logistic Reg.', 'MultinomialNB', 'SVM','Decision Tree', 'BERT']\n",
    "LR = [acc_lr,f1_lr, recall_lr]\n",
    "NB = [acc_nb,f1_nb, recall_nb]\n",
    "SVM = [acc_svm,f1_svm, recall_svm]\n",
    "TR =[acc_tree,f1_tree, recall_tree]\n",
    "BT = [acc_BERT,f1_BERT, recall_BERT]"
   ]
  },
  {
   "cell_type": "code",
   "execution_count": 96,
   "id": "008a44bd",
   "metadata": {},
   "outputs": [
    {
     "data": {
      "image/png": "[encoded data removed]",
      "text/plain": [
       "<Figure size 720x432 with 1 Axes>"
      ]
     },
     "metadata": {
      "needs_background": "light"
     },
     "output_type": "display_data"
    }
   ],
   "source": [
    "fig, ax = plt.subplots(figsize=(10, 6))\n",
    "x = np.arange(len(metricList))\n",
    "bar_width = 0.1\n",
    "#b1 = ax.bar(x, accuracyList,width=bar_width, label=\"Accuracy\")\n",
    "#b2 = ax.bar(x + bar_width, f1Score, width=bar_width, label=\"F1-Score\")\n",
    "#b3 = ax.bar(x + bar_width+bar_width, recall, width=bar_width, label=\"Recall\")\n",
    "b1 = ax.bar(x, LR,width=bar_width, label=\"Logistic Reg.\")\n",
    "b2 = ax.bar(x + bar_width, NB, width=bar_width, label=\"MultinomialNB\")\n",
    "b3 = ax.bar(x + bar_width+bar_width, SVM, width=bar_width, label=\"SVM\")\n",
    "b4 = ax.bar(x + bar_width+bar_width+bar_width, TR, width=bar_width, label=\"Decision tree\")\n",
    "b5 = ax.bar(x + bar_width+bar_width+bar_width+bar_width, BT, width=bar_width, label=\"BERT\")\n",
    "\n",
    "# Fix the x-axes.\n",
    "ax.set_xticks(x + bar_width / 2)\n",
    "ax.set_xticklabels(metricList)\n",
    "ax.legend()\n",
    "plt.savefig('D:/NLP_SentimentA_RTE_Data/Images/'+'betweenModelComparison_'+train_test_ratio+'.jpg')"
   ]
  },
  {
   "cell_type": "code",
   "execution_count": 69,
   "id": "71723ae9",
   "metadata": {},
   "outputs": [
    {
     "data": {
      "image/png": "[encoded data removed]",
      "text/plain": [
       "<Figure size 432x288 with 2 Axes>"
      ]
     },
     "metadata": {
      "needs_background": "light"
     },
     "output_type": "display_data"
    }
   ],
   "source": [
    "from matplotlib import pyplot as plt\n",
    "import seaborn as sn\n",
    "sn.heatmap(cm_tree, annot=True, fmt='d')\n",
    "plt.xlabel('Predicted')\n",
    "plt.ylabel('True')\n",
    "plt.savefig('D:/NLP_SentimentA_RTE_Data/Images/'+'cmTREE_'+train_test_ratio+'.jpg')"
   ]
  },
  {
   "cell_type": "code",
   "execution_count": 70,
   "id": "4f15a4ca",
   "metadata": {},
   "outputs": [
    {
     "data": {
      "image/png": "[encoded data removed]",
      "text/plain": [
       "<Figure size 432x288 with 2 Axes>"
      ]
     },
     "metadata": {
      "needs_background": "light"
     },
     "output_type": "display_data"
    }
   ],
   "source": [
    "sn.heatmap(cm_lr, annot=True, fmt='d')\n",
    "plt.xlabel('Predicted')\n",
    "plt.ylabel('True')\n",
    "plt.savefig('D:/NLP_SentimentA_RTE_Data/Images/'+'cmLR_'+train_test_ratio+'.jpg')\n"
   ]
  },
  {
   "cell_type": "code",
   "execution_count": 71,
   "id": "356bedcb",
   "metadata": {},
   "outputs": [
    {
     "data": {
      "image/png": "[encoded data removed]",
      "text/plain": [
       "<Figure size 432x288 with 2 Axes>"
      ]
     },
     "metadata": {
      "needs_background": "light"
     },
     "output_type": "display_data"
    }
   ],
   "source": [
    "sn.heatmap(cm_nb, annot=True, fmt='d')\n",
    "plt.xlabel('Predicted')\n",
    "plt.ylabel('True')\n",
    "plt.savefig('D:/NLP_SentimentA_RTE_Data/Images/'+'cmNB_'+train_test_ratio+'.jpg')"
   ]
  },
  {
   "cell_type": "code",
   "execution_count": 72,
   "id": "2161f995",
   "metadata": {},
   "outputs": [
    {
     "data": {
      "image/png": "[encoded data removed]",
      "text/plain": [
       "<Figure size 432x288 with 2 Axes>"
      ]
     },
     "metadata": {
      "needs_background": "light"
     },
     "output_type": "display_data"
    }
   ],
   "source": [
    "sn.heatmap(cm_svm, annot=True, fmt='d')\n",
    "plt.xlabel('Predicted')\n",
    "plt.ylabel('True')\n",
    "plt.savefig('D:/NLP_SentimentA_RTE_Data/Images/'+'cmSVM_'+train_test_ratio+'.jpg')"
   ]
  },
  {
   "cell_type": "code",
   "execution_count": 73,
   "id": "77434bae",
   "metadata": {},
   "outputs": [
    {
     "data": {
      "image/png": "[encoded data removed]",
      "text/plain": [
       "<Figure size 432x288 with 2 Axes>"
      ]
     },
     "metadata": {
      "needs_background": "light"
     },
     "output_type": "display_data"
    }
   ],
   "source": [
    "sn.heatmap(cm_BERT, annot=True, fmt='d')\n",
    "plt.xlabel('Predicted')\n",
    "plt.ylabel('True')\n",
    "plt.savefig('D:/NLP_SentimentA_RTE_Data/Images/'+'cmBERT_'+train_test_ratio+'.jpg')"
   ]
  },
  {
   "cell_type": "code",
   "execution_count": 74,
   "id": "b183ab75",
   "metadata": {},
   "outputs": [
    {
     "name": "stderr",
     "output_type": "stream",
     "text": [
      "C:\\Users\\tunji\\AppData\\Local\\Temp/ipykernel_13088/1892656747.py:3: SettingWithCopyWarning: \n",
      "A value is trying to be set on a copy of a slice from a DataFrame.\n",
      "Try using .loc[row_indexer,col_indexer] = value instead\n",
      "\n",
      "See the caveats in the documentation: https://pandas.pydata.org/pandas-docs/stable/user_guide/indexing.html#returning-a-view-versus-a-copy\n",
      "  outputDf_Bert['Predicted'] = y_predict_BERT\n"
     ]
    }
   ],
   "source": [
    "outputDf_Bert = data.loc[data[\"clean_text\"].isin(X_test.tolist())]\n",
    "\n",
    "outputDf_Bert['Predicted'] = y_predict_BERT\n",
    "\n",
    "outputDf_Bert.to_csv('D:/NLP_SentimentA_RTE_Data/Images/'+'BERT_'+train_test_ratio+'.csv', index= True)\n"
   ]
  },
  {
   "cell_type": "code",
   "execution_count": 75,
   "id": "3ed233bd",
   "metadata": {},
   "outputs": [
    {
     "name": "stderr",
     "output_type": "stream",
     "text": [
      "C:\\Users\\tunji\\AppData\\Local\\Temp/ipykernel_13088/3172493880.py:3: SettingWithCopyWarning: \n",
      "A value is trying to be set on a copy of a slice from a DataFrame.\n",
      "Try using .loc[row_indexer,col_indexer] = value instead\n",
      "\n",
      "See the caveats in the documentation: https://pandas.pydata.org/pandas-docs/stable/user_guide/indexing.html#returning-a-view-versus-a-copy\n",
      "  outputDf_LR['Predicted'] = y_predict_lr\n"
     ]
    }
   ],
   "source": [
    "outputDf_LR = data.loc[data[\"clean_text\"].isin(X_test.tolist())]\n",
    "\n",
    "outputDf_LR['Predicted'] = y_predict_lr\n",
    "\n",
    "outputDf_LR.to_csv('D:/NLP_SentimentA_RTE_Data/Images/'+'LR_'+train_test_ratio+'.csv', index= True)"
   ]
  },
  {
   "cell_type": "code",
   "execution_count": 76,
   "id": "fe9fdebd",
   "metadata": {},
   "outputs": [
    {
     "name": "stderr",
     "output_type": "stream",
     "text": [
      "C:\\Users\\tunji\\AppData\\Local\\Temp/ipykernel_13088/1707437014.py:3: SettingWithCopyWarning: \n",
      "A value is trying to be set on a copy of a slice from a DataFrame.\n",
      "Try using .loc[row_indexer,col_indexer] = value instead\n",
      "\n",
      "See the caveats in the documentation: https://pandas.pydata.org/pandas-docs/stable/user_guide/indexing.html#returning-a-view-versus-a-copy\n",
      "  outputDf_NB['Predicted'] = y_predict_nb\n"
     ]
    }
   ],
   "source": [
    "outputDf_NB = data.loc[data[\"clean_text\"].isin(X_test.tolist())]\n",
    "\n",
    "outputDf_NB['Predicted'] = y_predict_nb\n",
    "\n",
    "outputDf_NB.to_csv('D:/NLP_SentimentA_RTE_Data/Images/'+'NB_'+train_test_ratio+'.csv', index= True)"
   ]
  },
  {
   "cell_type": "code",
   "execution_count": 77,
   "id": "1cd38b60",
   "metadata": {},
   "outputs": [
    {
     "name": "stderr",
     "output_type": "stream",
     "text": [
      "C:\\Users\\tunji\\AppData\\Local\\Temp/ipykernel_13088/1121775420.py:3: SettingWithCopyWarning: \n",
      "A value is trying to be set on a copy of a slice from a DataFrame.\n",
      "Try using .loc[row_indexer,col_indexer] = value instead\n",
      "\n",
      "See the caveats in the documentation: https://pandas.pydata.org/pandas-docs/stable/user_guide/indexing.html#returning-a-view-versus-a-copy\n",
      "  outputDf_SVM['Predicted'] = y_predict_svm\n"
     ]
    }
   ],
   "source": [
    "outputDf_SVM = data.loc[data[\"clean_text\"].isin(X_test.tolist())]\n",
    "\n",
    "outputDf_SVM['Predicted'] = y_predict_svm\n",
    "\n",
    "outputDf_SVM.to_csv('D:/NLP_SentimentA_RTE_Data/Images/'+'SVM_'+train_test_ratio+'.csv', index= True)"
   ]
  },
  {
   "cell_type": "code",
   "execution_count": 78,
   "id": "54333a04",
   "metadata": {},
   "outputs": [
    {
     "name": "stderr",
     "output_type": "stream",
     "text": [
      "C:\\Users\\tunji\\AppData\\Local\\Temp/ipykernel_13088/1507383083.py:3: SettingWithCopyWarning: \n",
      "A value is trying to be set on a copy of a slice from a DataFrame.\n",
      "Try using .loc[row_indexer,col_indexer] = value instead\n",
      "\n",
      "See the caveats in the documentation: https://pandas.pydata.org/pandas-docs/stable/user_guide/indexing.html#returning-a-view-versus-a-copy\n",
      "  outputDf_TREE['Predicted'] = y_predict_tree\n"
     ]
    }
   ],
   "source": [
    "outputDf_TREE = data.loc[data[\"clean_text\"].isin(X_test.tolist())]\n",
    "\n",
    "outputDf_TREE['Predicted'] = y_predict_tree\n",
    "\n",
    "outputDf_TREE.to_csv('D:/NLP_SentimentA_RTE_Data/Images/'+'TREE_'+train_test_ratio+'.csv', index= True)"
   ]
  },
  {
   "cell_type": "code",
   "execution_count": 79,
   "id": "6b34599d",
   "metadata": {},
   "outputs": [],
   "source": [
    "from PIL import Image\n",
    "from wordcloud import WordCloud, STOPWORDS, ImageColorGenerator\n",
    "\n",
    "data_1 = data.loc[data['Label'] == 1]\n",
    "data_0 = data.loc[data['Label'] == 0]\n",
    "desList = ''.join(map(str,data_1['Response'].tolist()))\n",
    "Un_desList = ''.join(map(str,data_0['Response'].tolist()))"
   ]
  },
  {
   "cell_type": "code",
   "execution_count": 80,
   "id": "4b8efd56",
   "metadata": {},
   "outputs": [
    {
     "data": {
      "image/png": "[encoded data removed]",
      "text/plain": [
       "<Figure size 432x288 with 1 Axes>"
      ]
     },
     "metadata": {
      "needs_background": "light"
     },
     "output_type": "display_data"
    }
   ],
   "source": [
    "wordcloud=WordCloud().generate(Un_desList)\n",
    "plt.imshow(wordcloud, interpolation='bilinear')\n",
    "plt.axis(\"off\")\n",
    "plt.savefig('D:/NLP_SentimentA_RTE_Data/Images/'+'Un_desiredResponses_afterLemm_'+train_test_ratio+'.jpg')"
   ]
  },
  {
   "cell_type": "code",
   "execution_count": 81,
   "id": "c35e584a",
   "metadata": {},
   "outputs": [
    {
     "data": {
      "image/png": "[encoded data removed]",
      "text/plain": [
       "<Figure size 432x288 with 1 Axes>"
      ]
     },
     "metadata": {
      "needs_background": "light"
     },
     "output_type": "display_data"
    }
   ],
   "source": [
    "wordcloud=WordCloud().generate(desList)\n",
    "plt.imshow(wordcloud, interpolation='bilinear')\n",
    "plt.axis(\"off\")\n",
    "plt.savefig('D:/NLP_SentimentA_RTE_Data/Images/'+'desiredResponses_afterLemm_'+train_test_ratio+'.jpg')"
   ]
  },
  {
   "cell_type": "code",
   "execution_count": 82,
   "id": "b48673d8",
   "metadata": {},
   "outputs": [
    {
     "name": "stderr",
     "output_type": "stream",
     "text": [
      "WARNING:absl:Found untraced functions such as restored_function_body, restored_function_body, restored_function_body, restored_function_body, restored_function_body while saving (showing 5 of 366). These functions will not be directly callable after loading.\n"
     ]
    },
    {
     "name": "stdout",
     "output_type": "stream",
     "text": [
      "INFO:tensorflow:Assets written to: ram://0d53667a-41a2-485b-a182-9e04f2aed1b6/assets\n"
     ]
    },
    {
     "name": "stderr",
     "output_type": "stream",
     "text": [
      "INFO:tensorflow:Assets written to: ram://0d53667a-41a2-485b-a182-9e04f2aed1b6/assets\n"
     ]
    }
   ],
   "source": [
    "filename = 'C:/Users/tunji/CMUProject/SavedModels/'+'bert'+train_test_ratio+'.sav'\n",
    "pickle.dump(model_BERT, open(filename, 'wb'))"
   ]
  },
  {
   "cell_type": "code",
   "execution_count": 83,
   "id": "e1b69634",
   "metadata": {},
   "outputs": [],
   "source": [
    "filename = 'C:/Users/tunji/CMUProject/SavedModels/'+'lr'+train_test_ratio+'.sav'\n",
    "pickle.dump(model_lr, open(filename, 'wb'))"
   ]
  },
  {
   "cell_type": "code",
   "execution_count": 84,
   "id": "eba0fe63",
   "metadata": {},
   "outputs": [],
   "source": [
    "filename = 'C:/Users/tunji/CMUProject/SavedModels/'+'nb'+train_test_ratio+'.sav'\n",
    "pickle.dump(model_nb, open(filename, 'wb'))"
   ]
  },
  {
   "cell_type": "code",
   "execution_count": 85,
   "id": "e70a2d9f",
   "metadata": {},
   "outputs": [],
   "source": [
    "filename = 'C:/Users/tunji/CMUProject/SavedModels/'+'svm'+train_test_ratio+'.sav'\n",
    "pickle.dump(model_svm, open(filename, 'wb'))"
   ]
  },
  {
   "cell_type": "code",
   "execution_count": 86,
   "id": "bd118024",
   "metadata": {},
   "outputs": [],
   "source": [
    "filename = 'C:/Users/tunji/CMUProject/SavedModels/'+'tree'+train_test_ratio+'.sav'\n",
    "pickle.dump(model_tree, open(filename, 'wb'))"
   ]
  },
  {
   "cell_type": "code",
   "execution_count": 87,
   "id": "bf1e1147",
   "metadata": {},
   "outputs": [],
   "source": [
    "def store_model_metricsAND_test_output(accuracyList, f1_ScoreList, recallList, confMatrixData, modelLabel):\n",
    "\n",
    "    \n",
    "    filename = 'D:/NLP_SentimentA_RTE_Data/Images/'+modelLabel+'/'+modelLabel+'10Runs.jpg'\n",
    "    y_acc_points = np.array(accuracyList)\n",
    "    y_f1_points = np.array(f1_ScoreList)\n",
    "    y_recal_points = np.array(recallList)\n",
    "    plt.plot(y_acc_points, color = 'r', label=\"Accuracy\")\n",
    "    plt.plot(y_f1_points, color = 'b', label=\"F1 score\")\n",
    "    plt.plot(y_recal_points, color = 'g', label = \"Recall\")\n",
    "\n",
    "    plt.xlabel('Number of runs')\n",
    "    plt.title(modelLabel)\n",
    "    plt.legend()\n",
    "    plt.savefig(filename)\n",
    "    plt.show()"
   ]
  },
  {
   "cell_type": "code",
   "execution_count": 88,
   "id": "081f9438",
   "metadata": {},
   "outputs": [],
   "source": [
    "def train_test_Model_AND_Store_Metrics(X_train_vectors_tfidf, X_test_vectors_tfidf, runNum, modelFunction, modelLabel):\n",
    "    \n",
    "    accList=[]\n",
    "    f1List = []\n",
    "    recallList=[]\n",
    "    cmData = []\n",
    "\n",
    "    for i in range (runNum):\n",
    "        cm, acc, f1, recall = modelFunction(X_train_vectors_tfidf, X_test_vectors_tfidf, i )\n",
    "    \n",
    "        accList.append(acc)\n",
    "        f1List.append(f1)\n",
    "        recallList.append(recall)\n",
    "        cmData.append(cm)\n",
    "    \n",
    "    store_model_metricsAND_test_output(accList, f1List, recallList, cmData, modelLabel)\n",
    "    \n",
    "    return accList, f1List, recallList, cmData\n",
    "    "
   ]
  },
  {
   "cell_type": "code",
   "execution_count": 89,
   "id": "a9961f4d",
   "metadata": {},
   "outputs": [
    {
     "ename": "NameError",
     "evalue": "name 'data2' is not defined",
     "output_type": "error",
     "traceback": [
      "\u001b[1;31m---------------------------------------------------------------------------\u001b[0m",
      "\u001b[1;31mNameError\u001b[0m                                 Traceback (most recent call last)",
      "\u001b[1;32m~\\AppData\\Local\\Temp/ipykernel_13088/1159751677.py\u001b[0m in \u001b[0;36m<module>\u001b[1;34m\u001b[0m\n\u001b[1;32m----> 1\u001b[1;33m \u001b[0maccList_lr\u001b[0m\u001b[1;33m,\u001b[0m \u001b[0mf1List_lr\u001b[0m\u001b[1;33m,\u001b[0m \u001b[0mrecallList_lr\u001b[0m\u001b[1;33m,\u001b[0m \u001b[0mcmData_lr\u001b[0m\u001b[1;33m=\u001b[0m\u001b[0mtrain_test_Model_AND_Store_Metrics\u001b[0m\u001b[1;33m(\u001b[0m\u001b[0mdata2\u001b[0m\u001b[1;33m,\u001b[0m \u001b[1;36m10\u001b[0m\u001b[1;33m,\u001b[0m \u001b[0mtrainAndTest_lr_Model\u001b[0m\u001b[1;33m,\u001b[0m \u001b[1;34m'lr'\u001b[0m\u001b[1;33m)\u001b[0m\u001b[1;33m\u001b[0m\u001b[1;33m\u001b[0m\u001b[0m\n\u001b[0m\u001b[0;32m      2\u001b[0m \u001b[0maccList_nb\u001b[0m\u001b[1;33m,\u001b[0m \u001b[0mf1List_nb\u001b[0m\u001b[1;33m,\u001b[0m \u001b[0mrecallList_nb\u001b[0m\u001b[1;33m,\u001b[0m \u001b[0mcmData_nb\u001b[0m\u001b[1;33m=\u001b[0m\u001b[0mtrain_test_Model_AND_Store_Metrics\u001b[0m\u001b[1;33m(\u001b[0m\u001b[0mdata2\u001b[0m\u001b[1;33m,\u001b[0m \u001b[1;36m10\u001b[0m\u001b[1;33m,\u001b[0m \u001b[0mtrainAndTest_nb_Model\u001b[0m\u001b[1;33m,\u001b[0m \u001b[1;34m'nb'\u001b[0m\u001b[1;33m)\u001b[0m\u001b[1;33m\u001b[0m\u001b[1;33m\u001b[0m\u001b[0m\n\u001b[0;32m      3\u001b[0m \u001b[0maccList_svm\u001b[0m\u001b[1;33m,\u001b[0m \u001b[0mf1List_svm\u001b[0m\u001b[1;33m,\u001b[0m \u001b[0mrecallList_svm\u001b[0m\u001b[1;33m,\u001b[0m \u001b[0mcmData_svm\u001b[0m\u001b[1;33m=\u001b[0m\u001b[0mtrain_test_Model_AND_Store_Metrics\u001b[0m\u001b[1;33m(\u001b[0m\u001b[0mdata2\u001b[0m\u001b[1;33m,\u001b[0m \u001b[1;36m10\u001b[0m\u001b[1;33m,\u001b[0m \u001b[0mtrainAndTest_SVM_Model\u001b[0m\u001b[1;33m,\u001b[0m \u001b[1;34m'svm'\u001b[0m\u001b[1;33m)\u001b[0m\u001b[1;33m\u001b[0m\u001b[1;33m\u001b[0m\u001b[0m\n\u001b[0;32m      4\u001b[0m \u001b[0maccList_tree\u001b[0m\u001b[1;33m,\u001b[0m \u001b[0mf1List_tree\u001b[0m\u001b[1;33m,\u001b[0m \u001b[0mrecallList_tree\u001b[0m\u001b[1;33m,\u001b[0m \u001b[0mcmData_tree\u001b[0m\u001b[1;33m=\u001b[0m\u001b[0mtrain_test_Model_AND_Store_Metrics\u001b[0m\u001b[1;33m(\u001b[0m\u001b[0mdata2\u001b[0m\u001b[1;33m,\u001b[0m \u001b[1;36m10\u001b[0m\u001b[1;33m,\u001b[0m \u001b[0mtrainAndTest_tree_Model\u001b[0m\u001b[1;33m,\u001b[0m \u001b[1;34m'tree'\u001b[0m\u001b[1;33m)\u001b[0m\u001b[1;33m\u001b[0m\u001b[1;33m\u001b[0m\u001b[0m\n",
      "\u001b[1;31mNameError\u001b[0m: name 'data2' is not defined"
     ]
    }
   ],
   "source": [
    "accList_lr, f1List_lr, recallList_lr, cmData_lr=train_test_Model_AND_Store_Metrics(data2, 10, trainAndTest_lr_Model, 'lr')\n",
    "accList_nb, f1List_nb, recallList_nb, cmData_nb=train_test_Model_AND_Store_Metrics(data2, 10, trainAndTest_nb_Model, 'nb')\n",
    "accList_svm, f1List_svm, recallList_svm, cmData_svm=train_test_Model_AND_Store_Metrics(data2, 10, trainAndTest_SVM_Model, 'svm')\n",
    "accList_tree, f1List_tree, recallList_tree, cmData_tree=train_test_Model_AND_Store_Metrics(data2, 10, trainAndTest_tree_Model, 'tree')"
   ]
  },
  {
   "cell_type": "code",
   "execution_count": null,
   "id": "8824346f",
   "metadata": {},
   "outputs": [],
   "source": [
    "maxI=accList_tree.index(max(accList_tree))"
   ]
  },
  {
   "cell_type": "code",
   "execution_count": null,
   "id": "661e85a6",
   "metadata": {},
   "outputs": [],
   "source": [
    "accList_tree[maxI]"
   ]
  },
  {
   "cell_type": "code",
   "execution_count": null,
   "id": "2a1e49dd",
   "metadata": {},
   "outputs": [],
   "source": [
    "plt.plot(f1List_lr, color = 'r', label=\"Linear regression\")\n",
    "plt.plot(f1List_nb, color = 'b', label=\"Naive bayes\")\n",
    "plt.plot(f1List_svm, color = 'g', label = \"SVM\")\n",
    "plt.plot(f1List_tree, color = 'y', label = \"Tree\")\n",
    "\n",
    "plt.xlabel('Number of runs')\n",
    "plt.title('F1-Score Between-Models')\n",
    "plt.legend()\n",
    "plt.savefig('D:/NLP_SentimentA_RTE_Data/Images/f1score_between_models.jpg')\n",
    "plt.show()"
   ]
  },
  {
   "cell_type": "code",
   "execution_count": null,
   "id": "5c7d3b95",
   "metadata": {},
   "outputs": [],
   "source": [
    "plt.plot(accList_lr, color = 'r', label=\"Linear regression\")\n",
    "plt.plot(accList_nb, color = 'b', label=\"Naive bayes\")\n",
    "plt.plot(accList_svm, color = 'g', label = \"SVM\")\n",
    "plt.plot(accList_tree, color = 'y', label = \"Tree\")\n",
    "\n",
    "plt.xlabel('Number of runs')\n",
    "plt.title('Accuracy Between-Models')\n",
    "plt.legend()\n",
    "plt.savefig('D:/NLP_SentimentA_RTE_Data/Images/accuracy_between_models.jpg')\n",
    "plt.show()"
   ]
  },
  {
   "cell_type": "code",
   "execution_count": null,
   "id": "180787e2",
   "metadata": {},
   "outputs": [],
   "source": [
    "plt.plot(recallList_lr, color = 'r', label=\"Linear regression\")\n",
    "plt.plot(recallList_nb, color = 'b', label=\"Naive bayes\")\n",
    "plt.plot(recallList_svm, color = 'g', label = \"SVM\")\n",
    "plt.plot(recallList_tree, color = 'y', label = \"Tree\")\n",
    "\n",
    "plt.xlabel('Number of runs')\n",
    "plt.title('Recall Between-Models')\n",
    "plt.legend()\n",
    "plt.savefig('D:/NLP_SentimentA_RTE_Data/Images/recall_between_models.jpg')\n",
    "plt.show()"
   ]
  },
  {
   "cell_type": "code",
   "execution_count": null,
   "id": "67dbcd8a",
   "metadata": {},
   "outputs": [],
   "source": [
    "cmData_lr"
   ]
  },
  {
   "cell_type": "code",
   "execution_count": null,
   "id": "24851c70",
   "metadata": {},
   "outputs": [],
   "source": [
    "from matplotlib import pyplot as plt\n",
    "import seaborn as sn\n",
    "maxAcc_svm=accList_svm.index(max(accList_svm))\n",
    "cMatrix_svm = cmData_svm[maxAcc_svm]\n",
    "sn.heatmap(cMatrix_svm, annot=True, fmt='d')\n",
    "plt.xlabel('Predicted')\n",
    "plt.ylabel('True')\n",
    "plt.title('Confusion matrix for best SVM.')\n",
    "plt.savefig('D:/NLP_SentimentA_RTE_Data/Images/cMatrix_4_best_svm.jpg')\n",
    "\n"
   ]
  },
  {
   "cell_type": "code",
   "execution_count": null,
   "id": "5de16c17",
   "metadata": {},
   "outputs": [],
   "source": [
    "maxAcc_lr=accList_lr.index(max(accList_lr))\n",
    "cMatrix_lr = cmData_lr[maxAcc_lr]\n",
    "sn.heatmap(cMatrix_lr, annot=True, fmt='d')\n",
    "plt.xlabel('Predicted')\n",
    "plt.ylabel('True')\n",
    "plt.title('Confusion matrix for best Linear Regr.')\n",
    "plt.savefig('D:/NLP_SentimentA_RTE_Data/Images/cMatrix_4_best_lr.jpg')\n",
    "\n"
   ]
  },
  {
   "cell_type": "code",
   "execution_count": null,
   "id": "ac0fdec1",
   "metadata": {},
   "outputs": [],
   "source": [
    "maxAcc_nb=accList_nb.index(max(accList_nb))\n",
    "cMatrix_nb = cmData_nb[maxAcc_nb]\n",
    "sn.heatmap(cMatrix_nb, annot=True, fmt='d')\n",
    "plt.xlabel('Predicted')\n",
    "plt.ylabel('True')\n",
    "plt.title('Confusion matrix for best Naive Bayes.')\n",
    "plt.savefig('D:/NLP_SentimentA_RTE_Data/Images/cMatrix_4_best_nb.jpg')\n",
    "\n"
   ]
  },
  {
   "cell_type": "code",
   "execution_count": null,
   "id": "8d910240",
   "metadata": {},
   "outputs": [],
   "source": [
    "maxAcc_tree=accList_tree.index(max(accList_tree))\n",
    "cMatrix_tree = cmData_tree[maxAcc_tree]\n",
    "sn.heatmap(cMatrix_tree, annot=True, fmt='d')\n",
    "plt.xlabel('Predicted')\n",
    "plt.ylabel('True')\n",
    "plt.title('Confusion matrix for best Decision Tree.')\n",
    "plt.savefig('D:/NLP_SentimentA_RTE_Data/Images/cMatrix_4_best_tree.jpg')"
   ]
  },
  {
   "cell_type": "raw",
   "id": "2a6d9e42",
   "metadata": {},
   "source": [
    "           \n",
    "        "
   ]
  },
  {
   "cell_type": "code",
   "execution_count": null,
   "id": "626b1159",
   "metadata": {},
   "outputs": [],
   "source": [
    "accList_lr.index(max(accList_lr))"
   ]
  },
  {
   "cell_type": "code",
   "execution_count": null,
   "id": "4cc2a043",
   "metadata": {},
   "outputs": [],
   "source": [
    "#save the model to disk\n",
    "\n",
    "\n",
    "\n",
    "  "
   ]
  }
 ],
 "metadata": {
  "kernelspec": {
   "display_name": "Python 3 (ipykernel)",
   "language": "python",
   "name": "python3"
  },
  "language_info": {
   "codemirror_mode": {
    "name": "ipython",
    "version": 3
   },
   "file_extension": ".py",
   "mimetype": "text/x-python",
   "name": "python",
   "nbconvert_exporter": "python",
   "pygments_lexer": "ipython3",
   "version": "3.9.7"
  }
 },
 "nbformat": 4,
 "nbformat_minor": 5
}
